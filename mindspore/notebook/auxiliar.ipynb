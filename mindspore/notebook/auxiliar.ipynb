{
 "cells": [
  {
   "cell_type": "code",
   "execution_count": null,
   "metadata": {},
   "outputs": [],
   "source": [
    "! pip install numpy\n",
    "! pip install tensorflow"
   ]
  },
  {
   "cell_type": "code",
   "execution_count": 4,
   "metadata": {},
   "outputs": [],
   "source": [
    "import tensorflow as tf\n",
    "import numpy as np\n",
    "\n",
    "\n",
    "\n",
    "# Load the MNIST dataset\n",
    "mnist = tf.keras.datasets.mnist\n",
    "base = mnist.load_data()\n",
    "\n",
    "\n",
    "# Load the MNIST dataset\n",
    "np.save('mnist_images.npy', base[0][0])\n",
    "np.save('mnist_labels.npy', base[0][1])\n",
    "\n",
    "\n",
    "# # Save the data to files\n",
    "# with open('base', 'wb') as f:\n",
    "#     np.save(f, base)\n",
    "# with open('y_train.npy', 'wb') as f:\n",
    "#     np.save(f, y_train)\n",
    "# with open('x_test.npy', 'wb') as f:\n",
    "#     np.save(f, x_test)\n",
    "# with open('y_test.npy', 'wb') as f:\n",
    "#     np.save(f, y_test)"
   ]
  }
 ],
 "metadata": {
  "kernelspec": {
   "display_name": "Python 3",
   "language": "python",
   "name": "python3"
  },
  "language_info": {
   "codemirror_mode": {
    "name": "ipython",
    "version": 3
   },
   "file_extension": ".py",
   "mimetype": "text/x-python",
   "name": "python",
   "nbconvert_exporter": "python",
   "pygments_lexer": "ipython3",
   "version": "3.11.9"
  }
 },
 "nbformat": 4,
 "nbformat_minor": 2
}
